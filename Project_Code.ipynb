{
  "nbformat": 4,
  "nbformat_minor": 0,
  "metadata": {
    "colab": {
      "provenance": [],
      "collapsed_sections": [],
      "machine_shape": "hm",
      "include_colab_link": true
    },
    "kernelspec": {
      "name": "python3",
      "display_name": "Python 3"
    },
    "language_info": {
      "name": "python"
    },
    "accelerator": "GPU",
    "gpuClass": "standard"
  },
  "cells": [
    {
      "cell_type": "markdown",
      "metadata": {
        "id": "view-in-github",
        "colab_type": "text"
      },
      "source": [
        "<a href=\"https://colab.research.google.com/github/mimi1981/SIOS_workshop/blob/main/Project_Code.ipynb\" target=\"_parent\"><img src=\"https://colab.research.google.com/assets/colab-badge.svg\" alt=\"Open In Colab\"/></a>"
      ]
    },
    {
      "cell_type": "code",
      "source": [
        "Aim: short notebook for SIOS hands on training \n",
        "Author: Weibin Chen + Michel \n",
        "Date: August 2022"
      ],
      "metadata": {
        "id": "aBDu_rr6OP6m"
      },
      "execution_count": null,
      "outputs": []
    },
    {
      "cell_type": "code",
      "execution_count": null,
      "metadata": {
        "colab": {
          "base_uri": "https://localhost:8080/"
        },
        "id": "KIsNjuPEnyWn",
        "outputId": "37826866-0945-4ed9-8471-d9459baa0289"
      },
      "outputs": [
        {
          "output_type": "stream",
          "name": "stdout",
          "text": [
            "Looking in indexes: https://pypi.org/simple, https://us-python.pkg.dev/colab-wheels/public/simple/\n",
            "Collecting tensorflow-addons\n",
            "  Downloading tensorflow_addons-0.17.1-cp37-cp37m-manylinux_2_17_x86_64.manylinux2014_x86_64.whl (1.1 MB)\n",
            "\u001b[K     |████████████████████████████████| 1.1 MB 5.1 MB/s \n",
            "\u001b[?25hRequirement already satisfied: typeguard>=2.7 in /usr/local/lib/python3.7/dist-packages (from tensorflow-addons) (2.7.1)\n",
            "Requirement already satisfied: packaging in /usr/local/lib/python3.7/dist-packages (from tensorflow-addons) (21.3)\n",
            "Requirement already satisfied: pyparsing!=3.0.5,>=2.0.2 in /usr/local/lib/python3.7/dist-packages (from packaging->tensorflow-addons) (3.0.9)\n",
            "Installing collected packages: tensorflow-addons\n",
            "Successfully installed tensorflow-addons-0.17.1\n"
          ]
        }
      ],
      "source": [
        "pip install -U tensorflow-addons"
      ]
    },
    {
      "cell_type": "code",
      "source": [
        "import numpy as np\n",
        "import tensorflow as tf\n",
        "from tensorflow import keras\n",
        "from tensorflow.keras import layers\n",
        "import tensorflow_addons as tfa\n",
        "from sklearn.ensemble import RandomForestClassifier \n",
        "from sklearn.metrics import accuracy_score,confusion_matrix,classification_report\n",
        "import math"
      ],
      "metadata": {
        "id": "qD3z8pQisL7I"
      },
      "execution_count": null,
      "outputs": []
    },
    {
      "cell_type": "markdown",
      "source": [
        "# Functions needed"
      ],
      "metadata": {
        "id": "ODaKQbSHn8i4"
      }
    },
    {
      "cell_type": "code",
      "source": [
        "#=========================================================================================================\n",
        "#===================================  SUBFUNCTIONS  ======================================================\n",
        "#=========================================================================================================\n",
        "\n",
        "\n",
        "def peakiness(waves, **kwargs):  \n",
        "    \n",
        "    \"finds peakiness of waveforms.\" \n",
        "\n",
        "    #print(\"Beginning peakiness\")\n",
        "    # Kwargs are:\n",
        "    #          wf_plots. specify a number n: wf_plots=n, to show the first n waveform plots. \\\n",
        "     \n",
        "    import numpy as np\n",
        "    import matplotlib\n",
        "    import matplotlib.pyplot as plt\n",
        "    import time\n",
        "\n",
        "    print(\"Running peakiness function...\")\n",
        "    size=np.shape(waves)[0]\n",
        "    \n",
        "    waves1=np.copy(waves)\n",
        "    \n",
        "    if waves1.ndim == 1:\n",
        "        print('only one waveform in file')\n",
        "        waves2=waves1.reshape(1,np.size(waves1))\n",
        "        waves1=waves2\n",
        "\n",
        "    def by_row(waves, *args):\n",
        "        \"calculate peakiness for each waveform\"\n",
        "        maximum=np.nanmax(waves)\n",
        "        if maximum > 0:\n",
        "\n",
        "            maximum_bin=np.where(waves==maximum)\n",
        "            #print(maximum_bin)\n",
        "            maximum_bin=maximum_bin[0][0]\n",
        "            waves_128=waves[maximum_bin-50:maximum_bin+78]\n",
        "\n",
        "            waves=waves_128\n",
        "\n",
        "            noise_floor=np.nanmean(waves[10:20])\n",
        "            where_above_nf=np.where(waves > noise_floor)\n",
        "\n",
        "            if np.shape(where_above_nf)[1] > 0:\n",
        "                maximum=np.nanmax(waves[where_above_nf])\n",
        "                total=np.sum(waves[where_above_nf])\n",
        "                mean=np.nanmean(waves[where_above_nf])\n",
        "                peaky=maximum/mean\n",
        "\n",
        "            else:\n",
        "                peaky = np.nan\n",
        "                maximum = np.nan\n",
        "                total = np.nan\n",
        "\n",
        "        else:\n",
        "            peaky = np.nan\n",
        "            maximum = np.nan\n",
        "            total = np.nan\n",
        "\n",
        "        if 'maxs' in args:\n",
        "            return maximum\n",
        "        if 'totals' in args:\n",
        "            return total\n",
        "        if 'peaky' in args:\n",
        "            return peaky\n",
        "\n",
        "    peaky=np.apply_along_axis(by_row, 1, waves1, 'peaky')\n",
        "\n",
        "    if 'wf_plots' in kwargs:\n",
        "        maximums=np.apply_along_axis(by_row, 1, waves1, 'maxs')\n",
        "        totals=np.apply_along_axis(by_row, 1, waves1, 'totals')\n",
        "\n",
        "        for i in range(0,kwargs['wf_plots']):\n",
        "            if i == 0:\n",
        "                print(\"Plotting first \"+str(kwargs['wf_plots'])+\" waveforms\")\n",
        "\n",
        "            plt.plot(waves1[i,:])#, a, col[i],label=label[i])\n",
        "            plt.axhline(maximums[i], color='green')\n",
        "            plt.axvline(10, color='r')\n",
        "            plt.axvline(19, color='r')\n",
        "            plt.xlabel('Bin (of 256)')\n",
        "            plt.ylabel('Power')\n",
        "            plt.text(5,maximums[i],\"maximum=\"+str(maximums[i]))\n",
        "            plt.text(5,maximums[i]-2500,\"total=\"+str(totals[i]))\n",
        "            plt.text(5,maximums[i]-5000,\"peakiness=\"+str(peaky[i]))\n",
        "            plt.title('waveform '+str(i)+' of '+str(size)+'\\n. Noise floor average taken between red lines.')\n",
        "            plt.show()\n",
        "\n",
        "\n",
        "    return peaky\n",
        "\n",
        "#=========================================================================================================\n",
        "#=========================================================================================================\n",
        "#=========================================================================================================\n",
        "\n",
        "\n",
        "def unpack_gpod(variable):\n",
        "        \n",
        "    from scipy.interpolate import interp1d\n",
        "        \n",
        "    time_1hz=SAR_data.variables['time_counter_1Hz'][:]\n",
        "    time_20hz=SAR_data.variables['time_counter_20Hz'][:]\n",
        "\n",
        "    out=(SAR_data.variables[variable][:]).astype(float)  # convert from integer array to float.\n",
        "\n",
        "    #if ma.is_masked(dataset.variables[variable][:]) == True:\n",
        "    #print(variable,'is masked. Removing mask and replacing masked values with nan')\n",
        "    out=np.ma.filled(out, np.nan) \n",
        "        \n",
        "    if len(out)==len(time_1hz):\n",
        "            \n",
        "        print(variable,'is 1hz. Expanding to 20hz...')\n",
        "        out = interp1d(time_1hz,out,fill_value=\"extrapolate\")(time_20hz)  \n",
        "\n",
        "    return out\n",
        "\n",
        "\n",
        "#=========================================================================================================\n",
        "#=========================================================================================================\n",
        "#=========================================================================================================\n",
        "\n",
        "def calculate_SSD(RIP):\n",
        "\n",
        "    from scipy.optimize import curve_fit\n",
        "    from scipy import asarray as ar,exp\n",
        "    do_plot='Off'\n",
        "    \n",
        "    def gaussian(x,a,x0,sigma):\n",
        "            return a * np.exp(-(x - x0)**2 / (2 * sigma**2))\n",
        "    \n",
        "    SSD=np.zeros(np.shape(RIP)[0])*np.nan\n",
        "    x=np.arange(np.shape(RIP)[1])\n",
        "    \n",
        "    for i in range(np.shape(RIP)[0]):\n",
        "    \n",
        "        y=np.copy(RIP[i])\n",
        "        y[(np.isnan(y)==True)]=0\n",
        "\n",
        "        if 'popt' in locals():\n",
        "            del(popt,pcov)\n",
        "\n",
        "        SSD_calc=0.5*(np.sum(y**2)*np.sum(y**2)/np.sum(y**4))\n",
        "        #print('SSD calculated from equation',SSD)\n",
        "\n",
        "        #n = len(x)                          \n",
        "        mean_est = sum(x * y) / sum(y)\n",
        "        sigma_est = np.sqrt(sum(y * (x - mean_est)**2) / sum(y))\n",
        "        #print('est. mean',mean,'est. sigma',sigma_est)\n",
        "\n",
        "        try:\n",
        "            popt,pcov = curve_fit(gaussian, x, y, p0=[max(y), mean_est, sigma_est],maxfev=10000)\n",
        "        except RuntimeError as e:\n",
        "            print(\"Gaussian SSD curve-fit error: \"+str(e))\n",
        "            #plt.plot(y)\n",
        "            #plt.show()\n",
        "\n",
        "        except TypeError as t:\n",
        "            print(\"Gaussian SSD curve-fit error: \"+str(t))\n",
        "\n",
        "        if do_plot=='ON':\n",
        "\n",
        "            plt.plot(x,y)\n",
        "            plt.plot(x,gaussian(x,*popt),'ro:',label='fit')\n",
        "            plt.axvline(popt[1])\n",
        "            plt.axvspan(popt[1]-popt[2], popt[1]+popt[2], alpha=0.15, color='Navy')\n",
        "            plt.show()\n",
        "\n",
        "            print('popt',popt)\n",
        "            print('curve fit SSD',popt[2])\n",
        "\n",
        "        if 'popt' in locals():\n",
        "            SSD[i]=abs(popt[2])\n",
        "            \n",
        "    \n",
        "    return SSD\n",
        "#=========================================================================================================\n",
        "#=========================================================================================================\n",
        "#=========================================================================================================\n",
        "\n",
        "\n",
        "def mlp_block(x, hidden_units, dropout_rate):\n",
        "    for units in hidden_units:\n",
        "        x = layers.Dense(units)(x)\n",
        "        x = layers.Activation('gelu')(x)\n",
        "        x = layers.Dropout(rate = dropout_rate)(x)\n",
        "    return x\n",
        "\n",
        "class Patches(layers.Layer):\n",
        "    def __init__(self, patch_size):\n",
        "        super(Patches, self).__init__()\n",
        "        self.patch_size = patch_size\n",
        "\n",
        "    def call(self, images):\n",
        "        batch_size = tf.shape(images)[0]\n",
        "        patches = tf.image.extract_patches(\n",
        "            images=images,\n",
        "            sizes=[1, self.patch_size, self.patch_size, 1],\n",
        "            strides=[1, self.patch_size, self.patch_size, 1],\n",
        "            rates=[1, 1, 1, 1],\n",
        "            padding=\"VALID\",\n",
        "        )\n",
        "        patch_dims = patches.shape[-1]\n",
        "        patches = tf.reshape(patches, [batch_size, -1, patch_dims])\n",
        "        return patches\n",
        "#=========================================================================================================\n",
        "#=========================================================================================================\n",
        "#=========================================================================================================\n",
        "class PatchEncoder(layers.Layer):\n",
        "    def __init__(self, num_patches, pro_dimen):\n",
        "        super(PatchEncoder, self).__init__()\n",
        "        self.num_patches = num_patches\n",
        "        self.projection = layers.Dense(units=pro_dimen)\n",
        "        self.position_embedding = layers.Embedding(\n",
        "            input_dim=num_patches, output_dim=pro_dimen\n",
        "        )\n",
        "\n",
        "    def call(self, patch):\n",
        "        positions = tf.range(start=0, limit=self.num_patches, delta=1)\n",
        "        encoded = self.projection(patch) + self.position_embedding(positions)\n",
        "        return encoded\n",
        "\n",
        "#=========================================================================================================\n",
        "#=========================================================================================================\n",
        "#=========================================================================================================\n",
        "def transformer_block(pa):\n",
        "  encoded_patches = PatchEncoder(num_patches, pro_dimen)(pa)\n",
        "  for _ in range(num_layers):\n",
        "    x1 = layers.LayerNormalization(epsilon=1e-6)(encoded_patches)\n",
        "          \n",
        "    attention_output = layers.MultiHeadAttention(\n",
        "    num_heads=num_heads, key_dim=pro_dimen, dropout=0.1\n",
        "          )(x1, x1)    \n",
        "    x2 = layers.Add()([attention_output, encoded_patches])\n",
        "    x3 = layers.LayerNormalization(epsilon=1e-6)(x2)\n",
        "    x3 = mlp_block(x3, hidden_units=transformer_units, dropout_rate=0.1)\n",
        "    \n",
        "    encoded_patches = layers.Add()([x3, x2])\n",
        "  extraction = layers.LayerNormalization(epsilon=1e-6)(encoded_patches)\n",
        "  extraction = layers.Flatten()(extraction)\n",
        "  extraction = layers.Dropout(0.5)(extraction)\n",
        "\n",
        "  return extraction\n",
        "\n",
        "\n",
        "def vit():\n",
        "    inputs = keras.Input(shape=input_shape)\n",
        "    data_plus = more_data(inputs)\n",
        "    patches = Patches(patch_size)(data_plus)\n",
        "    encoded_patches = PatchEncoder(num_patches, pro_dimen)(patches)\n",
        "    extraction = transformer_block(pa=patches)\n",
        "    features = mlp_block(extraction, mlp_heads,0.3)\n",
        "    output = layers.Dense(num_classes)(features)\n",
        "    model = keras.Model(inputs = inputs, outputs = output)\n",
        "    return model\n",
        "\n",
        "  \n",
        "#=========================================================================================================\n",
        "#=========================================================================================================\n",
        "#=========================================================================================================\n",
        "def run_experiment(model):\n",
        "    model.compile(\n",
        "        optimizer=tfa.optimizers.AdamW(\n",
        "learning_rate=learning_rate, weight_decay=wei_dec\n",
        "    ),\n",
        "        loss=keras.losses.SparseCategoricalCrossentropy(from_logits=True),\n",
        "        metrics=[keras.metrics.SparseCategoricalAccuracy(name=\"accuracy\"),],\n",
        "    )\n",
        "\n",
        "    filepath = \"/tmp/checkpoint\"\n",
        "    checkpoint_callback = keras.callbacks.ModelCheckpoint(\n",
        "        filepath,\n",
        "        monitor=\"val_accuracy\",\n",
        "        save_best_only=True,\n",
        "        save_weights_only=True,\n",
        "    )\n",
        "\n",
        "    history = model.fit(x=x_train,y=y_train,batch_size=30,epochs=20,validation_split=0.1,callbacks=[checkpoint_callback],\n",
        "    )\n",
        "\n",
        "    model.load_weights(filepath)\n",
        "    _, accuracy = model.evaluate(x_test, y_test)\n",
        "    print(f\"Test accuracy: {round(accuracy * 100, 2)}%\")\n",
        "    \n",
        "\n",
        "    return history\n"
      ],
      "metadata": {
        "id": "QRzynGh8oEhX"
      },
      "execution_count": null,
      "outputs": []
    },
    {
      "cell_type": "markdown",
      "source": [
        "# Data\n"
      ],
      "metadata": {
        "id": "H99g5p9ln2Ta"
      }
    },
    {
      "cell_type": "code",
      "source": [
        "#y_train.npy\n",
        "! gdown --id 1xijuIvlUw7Y9_USNiE9lIBYO0-MhR1VG"
      ],
      "metadata": {
        "colab": {
          "base_uri": "https://localhost:8080/"
        },
        "id": "X1mXDhIsTtnN",
        "outputId": "4bdb92aa-66c0-4440-c7de-3248c29b4220"
      },
      "execution_count": null,
      "outputs": [
        {
          "output_type": "stream",
          "name": "stdout",
          "text": [
            "/usr/local/lib/python3.7/dist-packages/gdown/cli.py:131: FutureWarning: Option `--id` was deprecated in version 4.3.1 and will be removed in 5.0. You don't need to pass it anymore to use a file ID.\n",
            "  category=FutureWarning,\n",
            "Downloading...\n",
            "From: https://drive.google.com/uc?id=1xijuIvlUw7Y9_USNiE9lIBYO0-MhR1VG\n",
            "To: /content/y_train.npy\n",
            "100% 11.9k/11.9k [00:00<00:00, 18.1MB/s]\n"
          ]
        }
      ]
    },
    {
      "cell_type": "code",
      "source": [
        "#y_test.npy\n",
        "! gdown --id 1pDvdFdmbbwd5QjyXcaiaDNiKfTW7_7gh"
      ],
      "metadata": {
        "colab": {
          "base_uri": "https://localhost:8080/"
        },
        "id": "P6i7CxT8UNhU",
        "outputId": "6830c814-689d-4609-b74b-e3513d00887c"
      },
      "execution_count": null,
      "outputs": [
        {
          "output_type": "stream",
          "name": "stdout",
          "text": [
            "/usr/local/lib/python3.7/dist-packages/gdown/cli.py:131: FutureWarning: Option `--id` was deprecated in version 4.3.1 and will be removed in 5.0. You don't need to pass it anymore to use a file ID.\n",
            "  category=FutureWarning,\n",
            "Downloading...\n",
            "From: https://drive.google.com/uc?id=1pDvdFdmbbwd5QjyXcaiaDNiKfTW7_7gh\n",
            "To: /content/y_test.npy\n",
            "100% 5.42k/5.42k [00:00<00:00, 10.5MB/s]\n"
          ]
        }
      ]
    },
    {
      "cell_type": "code",
      "source": [
        "#x_train.npy\n",
        "! gdown --id 1teFyjdZIIvgDR6C_AcBult2UAcPw1FLv"
      ],
      "metadata": {
        "colab": {
          "base_uri": "https://localhost:8080/"
        },
        "id": "u5P1T2ROTtIo",
        "outputId": "83b7ecab-6e2b-46e1-cccf-36f7ee07fe50"
      },
      "execution_count": null,
      "outputs": [
        {
          "output_type": "stream",
          "name": "stdout",
          "text": [
            "/usr/local/lib/python3.7/dist-packages/gdown/cli.py:131: FutureWarning: Option `--id` was deprecated in version 4.3.1 and will be removed in 5.0. You don't need to pass it anymore to use a file ID.\n",
            "  category=FutureWarning,\n",
            "Downloading...\n",
            "From: https://drive.google.com/uc?id=1teFyjdZIIvgDR6C_AcBult2UAcPw1FLv\n",
            "To: /content/x_train.npy\n",
            "100% 269M/269M [00:01<00:00, 262MB/s]\n"
          ]
        }
      ]
    },
    {
      "cell_type": "code",
      "source": [
        "#x_test.npy\n",
        "! gdown --id 1ORMYfhe1Mo9q9gYASJnUcWsw3MLI3nRY"
      ],
      "metadata": {
        "colab": {
          "base_uri": "https://localhost:8080/"
        },
        "id": "2JuwBZOyUgqn",
        "outputId": "0f9c080f-73ad-4ef7-e136-081b5f271346"
      },
      "execution_count": null,
      "outputs": [
        {
          "output_type": "stream",
          "name": "stdout",
          "text": [
            "/usr/local/lib/python3.7/dist-packages/gdown/cli.py:131: FutureWarning: Option `--id` was deprecated in version 4.3.1 and will be removed in 5.0. You don't need to pass it anymore to use a file ID.\n",
            "  category=FutureWarning,\n",
            "Downloading...\n",
            "From: https://drive.google.com/uc?id=1ORMYfhe1Mo9q9gYASJnUcWsw3MLI3nRY\n",
            "To: /content/x_test.npy\n",
            "100% 121M/121M [00:00<00:00, 275MB/s]\n"
          ]
        }
      ]
    },
    {
      "cell_type": "code",
      "source": [
        "!ls /content/"
      ],
      "metadata": {
        "colab": {
          "base_uri": "https://localhost:8080/"
        },
        "id": "to4C_xCmUWhC",
        "outputId": "a5b76f4f-f3e0-46df-b025-31625edbc002"
      },
      "execution_count": null,
      "outputs": [
        {
          "output_type": "stream",
          "name": "stdout",
          "text": [
            "sample_data  x_test.npy  x_train.npy  y_test.npy  y_train.npy\n"
          ]
        }
      ]
    },
    {
      "cell_type": "code",
      "source": [
        "# # from google.colab import drive\n",
        "# # drive.mount('/content/drive')\n",
        "\n",
        "# !ls /content/drive/MyDrive/SIOS_training/DATA2"
      ],
      "metadata": {
        "colab": {
          "base_uri": "https://localhost:8080/"
        },
        "id": "qmxiZrmQOZMo",
        "outputId": "8f87bde9-224e-4907-924f-2fc39dddb279"
      },
      "execution_count": null,
      "outputs": [
        {
          "output_type": "stream",
          "name": "stdout",
          "text": [
            "x_test.npy  x_train.npy  y_test.npy  y_train.npy\n"
          ]
        }
      ]
    },
    {
      "cell_type": "code",
      "source": [
        "import numpy as np\n",
        "##Process the data separately and load them since processing the data takes quite some time and we don't want to process it evertime we run the model\n",
        "x_test = np.load('/content/x_test.npy')\n",
        "x_train  = np.load('./x_train.npy')\n",
        "y_test  = np.load('/content/y_test.npy')\n",
        "y_train  = np.load('/content/y_train.npy')"
      ],
      "metadata": {
        "id": "UmNme-Bln6iu"
      },
      "execution_count": null,
      "outputs": []
    },
    {
      "cell_type": "code",
      "source": [
        "x_train.shape"
      ],
      "metadata": {
        "colab": {
          "base_uri": "https://localhost:8080/"
        },
        "id": "1ebyYVb4sTob",
        "outputId": "0cd1666c-a09b-48a4-b38e-9b2be61c9a3a"
      },
      "execution_count": null,
      "outputs": [
        {
          "output_type": "execute_result",
          "data": {
            "text/plain": [
              "(1469, 33, 33, 21)"
            ]
          },
          "metadata": {},
          "execution_count": 11
        }
      ]
    },
    {
      "cell_type": "markdown",
      "source": [
        "# Random forest"
      ],
      "metadata": {
        "id": "dlhqq55SoKv_"
      }
    },
    {
      "cell_type": "code",
      "source": [
        "#Reshape the data to adapt to the required shape of input of random forest\n",
        "nsamples, nx, ny, nrgb = x_train.shape\n",
        "x_train2 = x_train.reshape((nsamples,nx*ny*nrgb))"
      ],
      "metadata": {
        "id": "w5kG07DloO_3"
      },
      "execution_count": null,
      "outputs": []
    },
    {
      "cell_type": "code",
      "source": [
        "x_test.shape"
      ],
      "metadata": {
        "colab": {
          "base_uri": "https://localhost:8080/"
        },
        "id": "OEdEM7uGe89J",
        "outputId": "32cc0df3-eddb-4242-a726-f6abdf805f0a"
      },
      "execution_count": null,
      "outputs": [
        {
          "output_type": "execute_result",
          "data": {
            "text/plain": [
              "(662, 33, 33, 21)"
            ]
          },
          "metadata": {},
          "execution_count": 26
        }
      ]
    },
    {
      "cell_type": "code",
      "source": [
        "x_train2.shape"
      ],
      "metadata": {
        "colab": {
          "base_uri": "https://localhost:8080/"
        },
        "id": "Cxz45edoGU0g",
        "outputId": "eb85c570-beb0-40e1-f64f-bac7df45f40b"
      },
      "execution_count": null,
      "outputs": [
        {
          "output_type": "execute_result",
          "data": {
            "text/plain": [
              "(1469, 22869)"
            ]
          },
          "metadata": {},
          "execution_count": 15
        }
      ]
    },
    {
      "cell_type": "code",
      "source": [
        "import matplotlib.pyplot as plt"
      ],
      "metadata": {
        "id": "KeBgnFttGpTc"
      },
      "execution_count": null,
      "outputs": []
    },
    {
      "cell_type": "code",
      "source": [
        "plt.pcolor(x_train[300,:,:,0])"
      ],
      "metadata": {
        "colab": {
          "base_uri": "https://localhost:8080/",
          "height": 282
        },
        "id": "8BJGTYegG7_9",
        "outputId": "752f6aa6-6313-40a9-9d4b-3745b3455629"
      },
      "execution_count": null,
      "outputs": [
        {
          "output_type": "execute_result",
          "data": {
            "text/plain": [
              "<matplotlib.collections.PolyCollection at 0x7f61172e4d50>"
            ]
          },
          "metadata": {},
          "execution_count": 24
        },
        {
          "output_type": "display_data",
          "data": {
            "text/plain": [
              "<Figure size 432x288 with 1 Axes>"
            ],
            "image/png": "[encoded data removed]"
          },
          "metadata": {
            "needs_background": "light"
          }
        }
      ]
    },
    {
      "cell_type": "code",
      "source": [
        "y_train[300]"
      ],
      "metadata": {
        "colab": {
          "base_uri": "https://localhost:8080/"
        },
        "id": "tQyjxcKAHHLo",
        "outputId": "716e618f-a26b-4b30-861a-bde2c2dc9908"
      },
      "execution_count": null,
      "outputs": [
        {
          "output_type": "execute_result",
          "data": {
            "text/plain": [
              "0.0"
            ]
          },
          "metadata": {},
          "execution_count": 25
        }
      ]
    },
    {
      "cell_type": "code",
      "source": [
        "#Implement random forest\n",
        "from sklearn.ensemble import RandomForestClassifier\n",
        "model=RandomForestClassifier()\n",
        "model.fit(x_train2,y_train)"
      ],
      "metadata": {
        "id": "ddBBQTB0ogdc",
        "colab": {
          "base_uri": "https://localhost:8080/"
        },
        "outputId": "baf5e59a-9936-4809-ca05-8a6a9a967923"
      },
      "execution_count": null,
      "outputs": [
        {
          "output_type": "execute_result",
          "data": {
            "text/plain": [
              "RandomForestClassifier()"
            ]
          },
          "metadata": {},
          "execution_count": 16
        }
      ]
    },
    {
      "cell_type": "code",
      "source": [
        "#Test the model on test set and print the corresponding accuracy\n",
        "nsamples, nx, ny, nrgb = x_test.shape\n",
        "x_test2 = x_test.reshape((nsamples,nx*ny*nrgb))\n",
        "y_pred=model.predict(x_test2)\n",
        "print(y_pred)\n",
        "print(y_test)\n",
        "from sklearn.metrics import accuracy_score,confusion_matrix,classification_report\n",
        "print(accuracy_score(y_pred,y_test))"
      ],
      "metadata": {
        "id": "y2VNzAs9ole6",
        "colab": {
          "base_uri": "https://localhost:8080/"
        },
        "outputId": "86cefc16-ab61-4c11-efc1-2d19e49367c3"
      },
      "execution_count": null,
      "outputs": [
        {
          "output_type": "stream",
          "name": "stdout",
          "text": [
            "[0. 1. 1. 1. 0. 1. 0. 1. 0. 1. 0. 1. 1. 1. 1. 1. 0. 0. 1. 0. 0. 1. 0. 1.\n",
            " 0. 0. 1. 1. 0. 1. 1. 0. 0. 1. 1. 1. 0. 1. 0. 1. 1. 1. 1. 0. 1. 1. 0. 0.\n",
            " 0. 1. 1. 1. 1. 1. 1. 1. 1. 1. 0. 1. 0. 0. 1. 1. 0. 0. 1. 0. 0. 0. 1. 0.\n",
            " 1. 0. 1. 0. 1. 1. 0. 1. 1. 1. 1. 0. 0. 1. 0. 1. 0. 0. 1. 0. 1. 1. 1. 1.\n",
            " 0. 1. 1. 0. 0. 0. 1. 1. 1. 0. 1. 1. 1. 1. 1. 0. 0. 0. 1. 1. 1. 1. 1. 0.\n",
            " 1. 0. 0. 0. 0. 1. 1. 1. 1. 1. 1. 0. 1. 1. 0. 1. 1. 0. 0. 0. 1. 1. 0. 0.\n",
            " 0. 1. 1. 1. 1. 1. 0. 0. 0. 0. 1. 1. 1. 0. 0. 1. 0. 0. 1. 1. 0. 0. 1. 0.\n",
            " 0. 1. 1. 0. 1. 0. 1. 1. 1. 1. 0. 0. 1. 0. 1. 1. 1. 1. 1. 1. 1. 1. 1. 1.\n",
            " 0. 1. 1. 0. 0. 1. 0. 1. 1. 0. 0. 0. 0. 0. 0. 0. 0. 0. 1. 1. 0. 0. 0. 1.\n",
            " 0. 0. 1. 0. 0. 0. 0. 1. 0. 1. 0. 0. 0. 1. 1. 0. 0. 1. 0. 1. 0. 0. 1. 1.\n",
            " 0. 1. 0. 1. 1. 1. 1. 0. 1. 1. 0. 1. 0. 0. 0. 0. 1. 0. 0. 0. 0. 1. 0. 0.\n",
            " 0. 1. 1. 1. 0. 1. 0. 0. 1. 1. 1. 1. 1. 0. 1. 0. 1. 0. 1. 1. 1. 0. 0. 0.\n",
            " 1. 0. 0. 0. 1. 0. 0. 0. 0. 1. 0. 0. 0. 0. 0. 1. 1. 1. 1. 0. 1. 1. 0. 0.\n",
            " 1. 1. 0. 1. 1. 0. 0. 0. 1. 1. 1. 1. 0. 1. 0. 1. 1. 1. 0. 1. 1. 1. 1. 1.\n",
            " 1. 1. 1. 0. 1. 1. 1. 0. 1. 0. 1. 1. 0. 0. 0. 1. 1. 1. 1. 1. 1. 0. 1. 1.\n",
            " 0. 1. 1. 0. 0. 0. 1. 0. 0. 1. 0. 0. 0. 1. 1. 1. 1. 0. 0. 1. 0. 1. 0. 0.\n",
            " 1. 0. 1. 0. 1. 0. 1. 1. 0. 0. 0. 0. 1. 0. 0. 0. 0. 1. 1. 0. 0. 0. 0. 1.\n",
            " 0. 1. 1. 1. 0. 0. 0. 0. 1. 1. 0. 0. 0. 1. 0. 1. 1. 0. 1. 0. 0. 0. 0. 0.\n",
            " 0. 0. 1. 0. 0. 1. 0. 1. 0. 1. 0. 1. 0. 0. 0. 0. 1. 1. 0. 0. 1. 1. 0. 1.\n",
            " 0. 1. 1. 1. 0. 1. 0. 0. 0. 0. 1. 0. 0. 0. 1. 1. 0. 0. 1. 1. 0. 1. 0. 1.\n",
            " 0. 1. 0. 1. 0. 0. 0. 1. 0. 0. 0. 0. 1. 0. 1. 1. 0. 1. 1. 0. 0. 1. 1. 0.\n",
            " 1. 0. 1. 0. 0. 0. 0. 1. 1. 1. 0. 0. 0. 1. 0. 1. 0. 1. 1. 1. 0. 0. 0. 0.\n",
            " 1. 0. 1. 0. 0. 0. 0. 0. 0. 0. 0. 1. 1. 0. 0. 1. 0. 0. 1. 1. 0. 1. 0. 1.\n",
            " 1. 0. 0. 1. 1. 1. 0. 1. 1. 0. 1. 0. 1. 1. 1. 0. 1. 1. 0. 0. 0. 1. 1. 0.\n",
            " 1. 1. 1. 0. 0. 1. 0. 0. 0. 1. 1. 0. 0. 0. 1. 0. 0. 1. 0. 0. 1. 0. 0. 1.\n",
            " 1. 1. 0. 1. 1. 0. 1. 1. 1. 1. 1. 0. 0. 1. 0. 0. 1. 0. 0. 0. 0. 0. 0. 0.\n",
            " 0. 0. 0. 0. 1. 1. 0. 0. 0. 1. 1. 1. 0. 0. 1. 1. 0. 0. 1. 1. 1. 0. 0. 0.\n",
            " 1. 0. 0. 0. 0. 1. 1. 1. 0. 1. 1. 1. 0. 0.]\n",
            "[0. 1. 1. 1. 1. 1. 0. 1. 1. 1. 0. 1. 0. 1. 1. 1. 0. 0. 1. 0. 0. 1. 0. 1.\n",
            " 0. 0. 1. 1. 0. 1. 1. 0. 0. 1. 0. 1. 0. 1. 0. 1. 1. 1. 1. 0. 1. 1. 0. 0.\n",
            " 0. 1. 1. 1. 1. 1. 1. 1. 1. 1. 0. 1. 0. 0. 1. 1. 0. 0. 1. 1. 0. 0. 1. 0.\n",
            " 1. 0. 1. 0. 1. 1. 0. 1. 1. 1. 1. 0. 0. 1. 0. 1. 0. 0. 1. 0. 1. 1. 1. 1.\n",
            " 1. 1. 1. 0. 0. 0. 1. 1. 1. 1. 1. 1. 1. 1. 1. 0. 0. 0. 1. 1. 1. 1. 1. 0.\n",
            " 1. 0. 0. 0. 0. 1. 1. 1. 1. 1. 1. 0. 1. 1. 0. 1. 1. 0. 0. 0. 1. 1. 1. 1.\n",
            " 0. 1. 1. 1. 1. 1. 0. 0. 0. 0. 1. 1. 1. 0. 0. 1. 1. 0. 1. 1. 0. 0. 1. 0.\n",
            " 0. 1. 1. 0. 1. 0. 1. 1. 1. 1. 0. 0. 1. 0. 1. 1. 1. 1. 1. 1. 1. 1. 1. 1.\n",
            " 0. 1. 1. 0. 0. 1. 0. 1. 1. 0. 0. 0. 0. 0. 0. 0. 0. 0. 1. 1. 0. 0. 0. 1.\n",
            " 0. 0. 1. 0. 0. 0. 0. 1. 0. 1. 0. 0. 0. 1. 1. 0. 0. 1. 0. 1. 0. 1. 1. 1.\n",
            " 1. 1. 0. 1. 1. 1. 1. 0. 1. 1. 0. 1. 0. 0. 0. 0. 1. 0. 0. 0. 0. 1. 0. 0.\n",
            " 0. 1. 1. 1. 0. 1. 0. 0. 1. 1. 1. 1. 1. 0. 1. 0. 1. 0. 1. 1. 1. 1. 0. 0.\n",
            " 1. 0. 0. 0. 1. 0. 0. 0. 1. 1. 0. 0. 0. 0. 0. 1. 1. 1. 1. 0. 1. 1. 0. 1.\n",
            " 1. 1. 0. 1. 1. 0. 0. 0. 1. 1. 1. 1. 0. 1. 1. 1. 1. 1. 0. 1. 1. 1. 1. 1.\n",
            " 1. 1. 1. 0. 1. 1. 1. 0. 1. 0. 1. 1. 0. 0. 0. 1. 1. 1. 1. 1. 1. 0. 1. 1.\n",
            " 0. 1. 1. 0. 0. 0. 1. 0. 1. 1. 1. 0. 0. 1. 1. 1. 1. 0. 0. 1. 0. 1. 0. 0.\n",
            " 1. 0. 1. 0. 1. 0. 1. 1. 0. 0. 0. 0. 1. 0. 0. 0. 0. 1. 1. 0. 0. 0. 0. 1.\n",
            " 1. 1. 1. 1. 0. 0. 0. 0. 1. 1. 0. 0. 0. 1. 0. 1. 1. 0. 1. 0. 0. 0. 0. 0.\n",
            " 0. 0. 1. 0. 0. 1. 0. 1. 0. 1. 0. 1. 1. 0. 0. 0. 1. 1. 0. 1. 1. 0. 1. 1.\n",
            " 0. 1. 1. 1. 0. 1. 0. 0. 0. 0. 1. 0. 0. 0. 1. 1. 0. 0. 1. 1. 0. 1. 0. 1.\n",
            " 0. 1. 0. 0. 0. 0. 1. 0. 0. 0. 0. 0. 1. 0. 1. 1. 1. 1. 1. 0. 0. 1. 1. 0.\n",
            " 1. 0. 1. 0. 0. 0. 0. 1. 1. 1. 1. 0. 0. 1. 0. 1. 0. 1. 1. 1. 0. 1. 0. 0.\n",
            " 1. 0. 1. 0. 0. 0. 0. 0. 0. 0. 0. 1. 1. 0. 0. 1. 0. 0. 1. 1. 0. 1. 0. 1.\n",
            " 1. 0. 0. 1. 1. 1. 0. 1. 1. 0. 1. 1. 1. 1. 1. 0. 1. 1. 0. 1. 0. 1. 1. 0.\n",
            " 1. 1. 1. 0. 0. 1. 0. 0. 0. 1. 1. 0. 0. 0. 1. 0. 0. 1. 0. 0. 1. 0. 0. 1.\n",
            " 1. 0. 0. 1. 1. 0. 1. 1. 1. 1. 1. 0. 0. 1. 0. 0. 1. 0. 0. 0. 0. 0. 0. 0.\n",
            " 0. 0. 0. 0. 1. 1. 0. 0. 0. 1. 1. 1. 0. 0. 1. 1. 0. 0. 1. 1. 1. 0. 0. 0.\n",
            " 1. 0. 0. 0. 0. 1. 1. 1. 0. 1. 1. 1. 1. 0.]\n",
            "0.9501510574018127\n"
          ]
        }
      ]
    },
    {
      "cell_type": "markdown",
      "source": [
        "# Vision transformer"
      ],
      "metadata": {
        "id": "1bW8DNg6pWMl"
      }
    },
    {
      "cell_type": "code",
      "source": [
        "#Store all the hyperparameters here\n",
        "num_classes = 2 #Can be changed to multi-classed classification\n",
        "input_shape = (33, 33, 21)#depends on the size of the image we want\n",
        "num_epo = 100\n",
        "ima_size = 96\n",
        "patch_size = 12  \n",
        "num_patches = (ima_size//patch_size)**2\n",
        "pro_dimen = 64\n",
        "num_heads = 4\n",
        "wei_dec = 0.001\n",
        "batch_size = 128\n",
        "num_layers = 32\n",
        "mlp_heads = [2048, 1024]  \n",
        "transformer_units = [pro_dimen * 2,pro_dimen,] \n",
        "learning_rate = 0.001"
      ],
      "metadata": {
        "id": "2fZDTJg_qXX6"
      },
      "execution_count": null,
      "outputs": []
    },
    {
      "cell_type": "code",
      "source": [],
      "metadata": {
        "id": "dSNg-Us2nsfQ"
      },
      "execution_count": null,
      "outputs": []
    },
    {
      "cell_type": "code",
      "source": [
        "\n",
        "more_data = keras.Sequential(\n",
        "    [layers.Normalization(),layers.Resizing(ima_size, ima_size),layers.RandomZoom(height_factor=0.2, width_factor=0.2),],\n",
        "    name=\"more_data\",)\n",
        "more_data.layers[0].adapt(x_train)"
      ],
      "metadata": {
        "id": "G-LP2xOKqtU-"
      },
      "execution_count": null,
      "outputs": []
    },
    {
      "cell_type": "code",
      "source": [
        "vit = vit()\n",
        "history = run_experiment(vit)"
      ],
      "metadata": {
        "id": "ArEl1tQ9rFKZ",
        "colab": {
          "base_uri": "https://localhost:8080/"
        },
        "outputId": "0b3eba43-e8c6-46d5-d644-4cd46baccd8e"
      },
      "execution_count": null,
      "outputs": [
        {
          "output_type": "stream",
          "name": "stdout",
          "text": [
            "Epoch 1/20\n",
            "45/45 [==============================] - 49s 245ms/step - loss: 1.8369 - accuracy: 0.6536 - val_loss: 0.3761 - val_accuracy: 0.8367\n",
            "Epoch 2/20\n",
            "45/45 [==============================] - 7s 164ms/step - loss: 0.4456 - accuracy: 0.7806 - val_loss: 0.3301 - val_accuracy: 0.8571\n",
            "Epoch 3/20\n",
            "45/45 [==============================] - 6s 131ms/step - loss: 0.3855 - accuracy: 0.8230 - val_loss: 0.4049 - val_accuracy: 0.8299\n",
            "Epoch 4/20\n",
            "45/45 [==============================] - 7s 157ms/step - loss: 0.3595 - accuracy: 0.8585 - val_loss: 0.2531 - val_accuracy: 0.9048\n",
            "Epoch 5/20\n",
            "45/45 [==============================] - 7s 157ms/step - loss: 0.2947 - accuracy: 0.8858 - val_loss: 0.2012 - val_accuracy: 0.9184\n",
            "Epoch 6/20\n",
            "45/45 [==============================] - 6s 132ms/step - loss: 0.3024 - accuracy: 0.8797 - val_loss: 0.3079 - val_accuracy: 0.8571\n",
            "Epoch 7/20\n",
            "45/45 [==============================] - 7s 155ms/step - loss: 0.2712 - accuracy: 0.8896 - val_loss: 0.1833 - val_accuracy: 0.9320\n",
            "Epoch 8/20\n",
            "45/45 [==============================] - 7s 155ms/step - loss: 0.2243 - accuracy: 0.9183 - val_loss: 0.1801 - val_accuracy: 0.9456\n",
            "Epoch 9/20\n",
            "45/45 [==============================] - 7s 158ms/step - loss: 0.2401 - accuracy: 0.9138 - val_loss: 0.1591 - val_accuracy: 0.9524\n",
            "Epoch 10/20\n",
            "45/45 [==============================] - 6s 133ms/step - loss: 0.2510 - accuracy: 0.9047 - val_loss: 0.1889 - val_accuracy: 0.9388\n",
            "Epoch 11/20\n",
            "45/45 [==============================] - 7s 156ms/step - loss: 0.2192 - accuracy: 0.9160 - val_loss: 0.1271 - val_accuracy: 0.9592\n",
            "Epoch 12/20\n",
            "45/45 [==============================] - 6s 132ms/step - loss: 0.2018 - accuracy: 0.9213 - val_loss: 0.1599 - val_accuracy: 0.9320\n",
            "Epoch 13/20\n",
            "45/45 [==============================] - 6s 131ms/step - loss: 0.2638 - accuracy: 0.8971 - val_loss: 0.1336 - val_accuracy: 0.9592\n",
            "Epoch 14/20\n",
            "45/45 [==============================] - 6s 132ms/step - loss: 0.1920 - accuracy: 0.9281 - val_loss: 0.6014 - val_accuracy: 0.7891\n",
            "Epoch 15/20\n",
            "45/45 [==============================] - 6s 131ms/step - loss: 0.2618 - accuracy: 0.8971 - val_loss: 0.2523 - val_accuracy: 0.8980\n",
            "Epoch 16/20\n",
            "45/45 [==============================] - 6s 132ms/step - loss: 0.2267 - accuracy: 0.9092 - val_loss: 0.1587 - val_accuracy: 0.9524\n",
            "Epoch 17/20\n",
            "45/45 [==============================] - 6s 131ms/step - loss: 0.3001 - accuracy: 0.8896 - val_loss: 0.1621 - val_accuracy: 0.9456\n",
            "Epoch 18/20\n",
            "45/45 [==============================] - 6s 131ms/step - loss: 0.2301 - accuracy: 0.9160 - val_loss: 0.1449 - val_accuracy: 0.9592\n",
            "Epoch 19/20\n",
            "45/45 [==============================] - 7s 164ms/step - loss: 0.2424 - accuracy: 0.9130 - val_loss: 0.1318 - val_accuracy: 0.9660\n",
            "Epoch 20/20\n",
            "45/45 [==============================] - 7s 156ms/step - loss: 0.1900 - accuracy: 0.9304 - val_loss: 0.1363 - val_accuracy: 0.9728\n",
            "21/21 [==============================] - 1s 65ms/step - loss: 0.1585 - accuracy: 0.9366\n",
            "Test accuracy: 93.66%\n"
          ]
        }
      ]
    },
    {
      "cell_type": "code",
      "source": [
        "#Run the model on test set (although the accuracy has been already calculated in training process )\n",
        "y_pred=vit.predict(x_test)\n",
        "#print(y_pred)\n",
        "print(np.argmax(y_pred,axis = 1))\n",
        "print(y_test)\n"
      ],
      "metadata": {
        "id": "HYQ3ucgWrdWL",
        "colab": {
          "base_uri": "https://localhost:8080/"
        },
        "outputId": "75bfafdb-60a7-4036-b49a-632107ad73ac"
      },
      "execution_count": null,
      "outputs": [
        {
          "output_type": "stream",
          "name": "stdout",
          "text": [
            "[0 1 1 1 1 1 0 1 0 1 0 1 1 1 1 1 0 0 1 0 0 1 0 1 0 0 1 1 0 0 1 0 0 1 0 1 0\n",
            " 1 0 1 1 1 1 0 1 1 0 0 0 1 1 1 1 1 1 1 1 1 0 1 0 0 1 1 0 0 1 0 0 0 1 0 1 0\n",
            " 1 0 1 1 0 1 1 1 1 0 0 1 0 1 1 0 1 1 1 1 1 1 0 1 1 1 0 0 1 1 1 0 1 1 1 1 1\n",
            " 0 0 0 1 1 1 1 1 0 1 0 0 0 0 1 1 1 1 1 1 0 1 1 0 0 1 0 0 0 1 1 0 0 0 1 1 0\n",
            " 1 1 0 0 0 0 1 1 1 0 0 1 0 0 1 0 0 0 1 0 0 1 1 0 1 0 1 1 0 1 0 0 1 0 1 1 1\n",
            " 1 1 1 1 1 1 1 0 1 1 0 0 1 0 1 1 0 0 0 0 0 0 0 0 0 1 1 0 0 0 1 0 0 1 0 0 0\n",
            " 0 1 0 1 0 0 0 1 1 0 0 1 0 1 0 0 1 1 1 1 0 1 1 1 1 0 1 1 0 1 0 0 0 0 1 0 0\n",
            " 0 0 1 0 0 0 1 1 1 0 1 0 0 1 1 0 1 1 0 1 0 1 0 1 1 1 1 0 0 1 0 0 0 1 0 0 0\n",
            " 0 1 0 0 0 0 0 1 1 1 1 0 1 1 0 0 1 1 0 1 1 0 0 0 1 1 1 1 0 1 0 1 1 1 0 1 1\n",
            " 0 1 1 1 1 1 0 1 1 1 0 1 0 1 1 0 0 0 1 1 1 1 1 1 1 1 1 0 1 1 0 0 0 1 0 0 1\n",
            " 1 0 0 1 1 1 0 0 0 1 0 1 0 0 1 0 1 0 1 0 1 1 0 0 0 0 1 0 0 0 0 1 1 0 0 0 0\n",
            " 1 0 1 1 1 0 0 0 0 1 1 0 0 0 1 0 1 1 0 1 0 0 0 0 0 0 0 1 0 0 1 0 1 0 1 0 1\n",
            " 1 0 0 0 1 1 0 1 1 0 1 1 0 1 1 1 0 1 0 0 0 0 1 0 0 1 1 1 0 0 1 1 0 1 0 1 0\n",
            " 1 0 1 0 0 1 0 0 0 0 1 1 0 1 1 1 1 1 0 0 1 1 0 1 0 1 0 0 0 0 1 1 1 0 0 0 1\n",
            " 0 1 0 1 1 1 0 0 0 0 1 0 1 0 0 0 0 0 0 0 0 1 1 0 0 1 0 1 1 1 0 0 0 1 1 0 0\n",
            " 1 1 1 0 0 1 0 1 1 1 1 1 0 1 1 0 0 0 1 1 0 1 1 1 0 0 1 0 0 0 1 1 0 0 0 1 0\n",
            " 0 1 0 0 1 0 0 1 1 0 0 1 1 0 1 1 1 1 1 0 0 1 0 0 1 0 0 0 1 0 0 0 0 0 0 0 1\n",
            " 1 0 0 0 1 1 1 0 0 1 1 0 0 1 1 1 1 0 0 1 0 0 0 0 1 1 0 0 1 1 1 1 0]\n",
            "[0. 1. 1. 1. 1. 1. 0. 1. 1. 1. 0. 1. 0. 1. 1. 1. 0. 0. 1. 0. 0. 1. 0. 1.\n",
            " 0. 0. 1. 1. 0. 1. 1. 0. 0. 1. 0. 1. 0. 1. 0. 1. 1. 1. 1. 0. 1. 1. 0. 0.\n",
            " 0. 1. 1. 1. 1. 1. 1. 1. 1. 1. 0. 1. 0. 0. 1. 1. 0. 0. 1. 1. 0. 0. 1. 0.\n",
            " 1. 0. 1. 0. 1. 1. 0. 1. 1. 1. 1. 0. 0. 1. 0. 1. 0. 0. 1. 0. 1. 1. 1. 1.\n",
            " 1. 1. 1. 0. 0. 0. 1. 1. 1. 1. 1. 1. 1. 1. 1. 0. 0. 0. 1. 1. 1. 1. 1. 0.\n",
            " 1. 0. 0. 0. 0. 1. 1. 1. 1. 1. 1. 0. 1. 1. 0. 1. 1. 0. 0. 0. 1. 1. 1. 1.\n",
            " 0. 1. 1. 1. 1. 1. 0. 0. 0. 0. 1. 1. 1. 0. 0. 1. 1. 0. 1. 1. 0. 0. 1. 0.\n",
            " 0. 1. 1. 0. 1. 0. 1. 1. 1. 1. 0. 0. 1. 0. 1. 1. 1. 1. 1. 1. 1. 1. 1. 1.\n",
            " 0. 1. 1. 0. 0. 1. 0. 1. 1. 0. 0. 0. 0. 0. 0. 0. 0. 0. 1. 1. 0. 0. 0. 1.\n",
            " 0. 0. 1. 0. 0. 0. 0. 1. 0. 1. 0. 0. 0. 1. 1. 0. 0. 1. 0. 1. 0. 1. 1. 1.\n",
            " 1. 1. 0. 1. 1. 1. 1. 0. 1. 1. 0. 1. 0. 0. 0. 0. 1. 0. 0. 0. 0. 1. 0. 0.\n",
            " 0. 1. 1. 1. 0. 1. 0. 0. 1. 1. 1. 1. 1. 0. 1. 0. 1. 0. 1. 1. 1. 1. 0. 0.\n",
            " 1. 0. 0. 0. 1. 0. 0. 0. 1. 1. 0. 0. 0. 0. 0. 1. 1. 1. 1. 0. 1. 1. 0. 1.\n",
            " 1. 1. 0. 1. 1. 0. 0. 0. 1. 1. 1. 1. 0. 1. 1. 1. 1. 1. 0. 1. 1. 1. 1. 1.\n",
            " 1. 1. 1. 0. 1. 1. 1. 0. 1. 0. 1. 1. 0. 0. 0. 1. 1. 1. 1. 1. 1. 0. 1. 1.\n",
            " 0. 1. 1. 0. 0. 0. 1. 0. 1. 1. 1. 0. 0. 1. 1. 1. 1. 0. 0. 1. 0. 1. 0. 0.\n",
            " 1. 0. 1. 0. 1. 0. 1. 1. 0. 0. 0. 0. 1. 0. 0. 0. 0. 1. 1. 0. 0. 0. 0. 1.\n",
            " 1. 1. 1. 1. 0. 0. 0. 0. 1. 1. 0. 0. 0. 1. 0. 1. 1. 0. 1. 0. 0. 0. 0. 0.\n",
            " 0. 0. 1. 0. 0. 1. 0. 1. 0. 1. 0. 1. 1. 0. 0. 0. 1. 1. 0. 1. 1. 0. 1. 1.\n",
            " 0. 1. 1. 1. 0. 1. 0. 0. 0. 0. 1. 0. 0. 0. 1. 1. 0. 0. 1. 1. 0. 1. 0. 1.\n",
            " 0. 1. 0. 0. 0. 0. 1. 0. 0. 0. 0. 0. 1. 0. 1. 1. 1. 1. 1. 0. 0. 1. 1. 0.\n",
            " 1. 0. 1. 0. 0. 0. 0. 1. 1. 1. 1. 0. 0. 1. 0. 1. 0. 1. 1. 1. 0. 1. 0. 0.\n",
            " 1. 0. 1. 0. 0. 0. 0. 0. 0. 0. 0. 1. 1. 0. 0. 1. 0. 0. 1. 1. 0. 1. 0. 1.\n",
            " 1. 0. 0. 1. 1. 1. 0. 1. 1. 0. 1. 1. 1. 1. 1. 0. 1. 1. 0. 1. 0. 1. 1. 0.\n",
            " 1. 1. 1. 0. 0. 1. 0. 0. 0. 1. 1. 0. 0. 0. 1. 0. 0. 1. 0. 0. 1. 0. 0. 1.\n",
            " 1. 0. 0. 1. 1. 0. 1. 1. 1. 1. 1. 0. 0. 1. 0. 0. 1. 0. 0. 0. 0. 0. 0. 0.\n",
            " 0. 0. 0. 0. 1. 1. 0. 0. 0. 1. 1. 1. 0. 0. 1. 1. 0. 0. 1. 1. 1. 0. 0. 0.\n",
            " 1. 0. 0. 0. 0. 1. 1. 1. 0. 1. 1. 1. 1. 0.]\n"
          ]
        }
      ]
    },
    {
      "cell_type": "code",
      "source": [],
      "metadata": {
        "id": "TP-rqgePQWLF"
      },
      "execution_count": null,
      "outputs": []
    }
  ]
}